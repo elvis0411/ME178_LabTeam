{
 "cells": [
  {
   "cell_type": "markdown",
   "id": "8d1d6992",
   "metadata": {},
   "source": [
    "---\n",
    "\n",
    "<h1><center>SDSE Lab 3 <br><br> K-means clustering </center></h1>\n",
    "\n",
    "---"
   ]
  },
  {
   "cell_type": "code",
   "execution_count": 1,
   "id": "d8a1b20a",
   "metadata": {},
   "outputs": [],
   "source": [
    "result = {\n",
    "    'group' : 20, # enter your group number here\n",
    "    'SIDs': [3036014656,0] # enter the SIDs for the group members\n",
    "}"
   ]
  },
  {
   "cell_type": "code",
   "execution_count": 2,
   "id": "ffe6bff8",
   "metadata": {},
   "outputs": [],
   "source": [
    "import numpy as np\n",
    "import matplotlib.pyplot as plt\n",
    "import pickle\n",
    "import scipy.stats as stats"
   ]
  },
  {
   "cell_type": "markdown",
   "id": "249c15f9",
   "metadata": {},
   "source": [
    "# 1) Load the data\n",
    "Use `pickle.load` to load `data2d.pickle`. This file contains a single matrix called `X`. Use variables `N` and `D` for the number of rows (samples) and columns (features) respectively. (2 pts)"
   ]
  },
  {
   "cell_type": "code",
   "execution_count": 3,
   "id": "e91d1404",
   "metadata": {},
   "outputs": [
    {
     "name": "stdout",
     "output_type": "stream",
     "text": [
      "2\n"
     ]
    }
   ],
   "source": [
    "with open('data2d.pickle','rb') as file:\n",
    "    X = pickle.load(file)\n",
    "    \n",
    "N = X.shape[0]\n",
    "D = X.shape[1]\n",
    "print(D)"
   ]
  },
  {
   "cell_type": "code",
   "execution_count": 4,
   "id": "fc142c5b",
   "metadata": {},
   "outputs": [
    {
     "ename": "NameError",
     "evalue": "name 'result' is not defined",
     "output_type": "error",
     "traceback": [
      "\u001b[0;31m---------------------------------------------------------------------------\u001b[0m",
      "\u001b[0;31mNameError\u001b[0m                                 Traceback (most recent call last)",
      "Input \u001b[0;32mIn [4]\u001b[0m, in \u001b[0;36m<module>\u001b[0;34m\u001b[0m\n\u001b[1;32m      1\u001b[0m \u001b[38;5;66;03m################################\u001b[39;00m\n\u001b[1;32m      2\u001b[0m \u001b[38;5;66;03m# Reporting. Do not modify.#####\u001b[39;00m\n\u001b[0;32m----> 3\u001b[0m \u001b[43mresult\u001b[49m[\u001b[38;5;124m'\u001b[39m\u001b[38;5;124mN\u001b[39m\u001b[38;5;124m'\u001b[39m] \u001b[38;5;241m=\u001b[39m N\n\u001b[1;32m      4\u001b[0m result[\u001b[38;5;124m'\u001b[39m\u001b[38;5;124mD\u001b[39m\u001b[38;5;124m'\u001b[39m] \u001b[38;5;241m=\u001b[39m D\n",
      "\u001b[0;31mNameError\u001b[0m: name 'result' is not defined"
     ]
    }
   ],
   "source": [
    "################################\n",
    "# Reporting. Do not modify.#####\n",
    "result['N'] = N\n",
    "result['D'] = D\n",
    "################################"
   ]
  },
  {
   "cell_type": "markdown",
   "id": "2bc52794",
   "metadata": {},
   "source": [
    "# 2) Scatter plot\n",
    "Create a scatter plot with the first column along the x-axis and the second column along the y-axis. Use `plt.axis('equal')` to force the two axes to have the same scale. This is important for correct visualization of the Euclidean distances between points. Save your figure handle to `fig2`. (2 pts)"
   ]
  },
  {
   "cell_type": "code",
   "execution_count": 4,
   "id": "f0537ad4",
   "metadata": {},
   "outputs": [
    {
     "data": {
      "image/png": "[encoded data removed]",
      "text/plain": [
       "<Figure size 360x360 with 1 Axes>"
      ]
     },
     "metadata": {
      "needs_background": "light"
     },
     "output_type": "display_data"
    }
   ],
   "source": [
    "fig2 = plt.figure(figsize=(5,5))\n",
    "plt.scatter(X[:,0],X[:,1])\n",
    "plt.axis('equal')\n",
    "plt.show()\n",
    "# ADD YOUR CODE HERE"
   ]
  },
  {
   "cell_type": "code",
   "execution_count": null,
   "id": "04d930f8",
   "metadata": {},
   "outputs": [],
   "source": [
    "################################\n",
    "# Reporting. Do not modify.#####\n",
    "result['fig2'] = fig2\n",
    "################################"
   ]
  },
  {
   "cell_type": "markdown",
   "id": "bc5f0929",
   "metadata": {},
   "source": [
    "# 3) Initialize centroids\n",
    "Complete the function below that takes the number of centroids `K` and the data matrix `X` and returns `K` randomly placed centroids. The centroids should be selected according to a uniform distribution that spans a box fitted to the data. The return value should be a numpy array with shape `(K,D)` where `D` is the number of columns in X. Make sure this function  works for for values of `D` other than 2. (6 pts)"
   ]
  },
  {
   "cell_type": "code",
   "execution_count": 5,
   "id": "9dd2eac2",
   "metadata": {},
   "outputs": [],
   "source": [
    "def initialize_centroids(K,X):\n",
    "    D = X.shape[1]\n",
    "    ans = np.zeros((K,D))\n",
    "    return ans\n",
    "    \n",
    "    # REMOVE THE pass AND ADD YOUR CODE HERE\n"
   ]
  },
  {
   "cell_type": "code",
   "execution_count": 16,
   "id": "3372926e",
   "metadata": {},
   "outputs": [
    {
     "name": "stdout",
     "output_type": "stream",
     "text": [
      "[[0. 0.]\n",
      " [0. 0.]\n",
      " [0. 0.]]\n"
     ]
    }
   ],
   "source": [
    "print(initialize_centroids(3,X))"
   ]
  },
  {
   "cell_type": "code",
   "execution_count": null,
   "id": "490b9fa7",
   "metadata": {},
   "outputs": [],
   "source": [
    "################################\n",
    "# Reporting. Do not modify.#####\n",
    "result['C3'] = initialize_centroids(3,X)\n",
    "################################"
   ]
  },
  {
   "cell_type": "markdown",
   "id": "7d16f873",
   "metadata": {},
   "source": [
    "# 4) Compute the assignment for given centroids\n",
    "Complete the function below that takes the data matrix and centroid locations, and returns an assignment matrix `r`. `r` should be a numpy array with shape `(N,K)`. Each row of `r` should contain `K-1` `False` values and one `True` value in the position corresponding to the centroid that is nearest to that data point (Euclidean distance). (6 pts)"
   ]
  },
  {
   "cell_type": "code",
   "execution_count": 6,
   "id": "318725fc",
   "metadata": {},
   "outputs": [],
   "source": [
    "def assign_samples_to_nearest_centroid(X,C):\n",
    "    N = X.shape[0]\n",
    "    K = C.shape[0]\n",
    "    r = np.zeros((N,K)) == True\n",
    "    dis_array = np.zeros((N,K))\n",
    "    for i in range(N):\n",
    "        for j in range(K):\n",
    "            dis = np.linalg.norm(X[i]-C[j])\n",
    "            dis_array[i,j] = dis\n",
    "    #print(\"dis:\", dis_array)\n",
    "    #print(\"=========\")\n",
    "    \n",
    "    for i in range(N):\n",
    "        for j in range(K):\n",
    "            if dis_array[i,j] == np.min(dis_array[i,:]):\n",
    "                r[i,j] = True\n",
    "            else:\n",
    "                r[i,j] = False            \n",
    "    \n",
    "    # ADD YOUR CODE HERE\n",
    "    \n",
    "    return r"
   ]
  },
  {
   "cell_type": "code",
   "execution_count": 70,
   "id": "9681c65d",
   "metadata": {
    "scrolled": true
   },
   "outputs": [
    {
     "name": "stdout",
     "output_type": "stream",
     "text": [
      "X: [[0.11103516 0.18552964]\n",
      " [0.97841751 0.38926335]\n",
      " [0.80815521 0.77580127]\n",
      " [0.32787589 0.74635652]\n",
      " [0.20604733 0.10283857]]\n",
      "C: [[0.88419315 0.76008022]\n",
      " [0.84161572 0.96704778]\n",
      " [0.00368372 0.37592787]]\n",
      "======\n",
      "dis: [[0.96326614 1.06982174 0.2185768 ]\n",
      " [0.38260081 0.59375885 0.974825  ]\n",
      " [0.07764612 0.19415158 0.89837248]\n",
      " [0.55648651 0.55913616 0.492258  ]\n",
      " [0.94437723 1.07275567 0.33989527]]\n",
      "=========\n",
      "[[False False  True]\n",
      " [ True False False]\n",
      " [ True False False]\n",
      " [False False  True]\n",
      " [False False  True]]\n"
     ]
    }
   ],
   "source": [
    "def test4():\n",
    "    X = np.random.rand(5,2)\n",
    "    C = np.random.rand(3,2)\n",
    "    print(\"X:\",X)\n",
    "    print(\"C:\", C)\n",
    "    print(\"======\")\n",
    "    ans = assign_samples_to_nearest_centroid(X,C)\n",
    "    print(ans)\n",
    "test4()"
   ]
  },
  {
   "cell_type": "code",
   "execution_count": null,
   "id": "3a680ce9",
   "metadata": {},
   "outputs": [],
   "source": [
    "################################\n",
    "# Reporting. Do not modify.#####\n",
    "result['r4'] = assign_samples_to_nearest_centroid(X,result['C3'])\n",
    "################################"
   ]
  },
  {
   "attachments": {
    "image.png": {
     "image/png": "[encoded data removed]"
    }
   },
   "cell_type": "markdown",
   "id": "be32df09",
   "metadata": {},
   "source": [
    "# 5) Plot data, centroids, assignment\n",
    "Complete the function below that takes the data matrix, a set of centroids, and an assignment matrix and creates a scatter plot similar to the one shown here. The centroids should be indicated with a large dot, and the data samples should be color-coded according to their cluster membership. Your plot may not be identical to this one due to the random placement of the centroids. (6 pts)\n",
    "\n",
    "![image.png](attachment:image.png)"
   ]
  },
  {
   "cell_type": "code",
   "execution_count": 101,
   "id": "8cf1ebdc",
   "metadata": {},
   "outputs": [
    {
     "data": {
      "text/plain": [
       "array([[0.25906566, 0.45015013]])"
      ]
     },
     "execution_count": 101,
     "metadata": {},
     "output_type": "execute_result"
    }
   ],
   "source": [
    "r = assign_samples_to_nearest_centroid(X,C)\n",
    "\n",
    "X[r[:,0]"
   ]
  },
  {
   "cell_type": "code",
   "execution_count": 7,
   "id": "ee58631f",
   "metadata": {},
   "outputs": [],
   "source": [
    "def plot_scatter(X, C, r):\n",
    "    K = r.shape[1]\n",
    "    fig = plt.figure(figsize=(5,5))\n",
    "    \n",
    "    \n",
    "    plt.scatter(C[:,0],C[:,1], color = 'r', s = 100)\n",
    "\n",
    "    for i in range(K):\n",
    "        d = X[r[:,i],:]\n",
    "        plt.scatter(d[:,0],d[:,1])\n",
    "        \n",
    "    \n",
    "    # ADD YOUR CODE HERE\n",
    "    \n",
    "    return fig"
   ]
  },
  {
   "cell_type": "code",
   "execution_count": 8,
   "id": "fb99050a",
   "metadata": {},
   "outputs": [
    {
     "data": {
      "image/png": "[encoded data removed]",
      "text/plain": [
       "<Figure size 360x360 with 1 Axes>"
      ]
     },
     "metadata": {
      "needs_background": "light"
     },
     "output_type": "display_data"
    }
   ],
   "source": [
    "def test5():\n",
    "    X = np.random.rand(100,2)\n",
    "    C = np.random.rand(3,2)\n",
    "    r = assign_samples_to_nearest_centroid(X,C)\n",
    "    \n",
    "    plot_scatter(X,C,r)\n",
    "test5()"
   ]
  },
  {
   "cell_type": "code",
   "execution_count": null,
   "id": "2d63a996",
   "metadata": {},
   "outputs": [],
   "source": [
    "################################\n",
    "# Reporting. Do not modify.#####\n",
    "result['fig5'] = plot_scatter(X, result['C3'], result['r4'])\n",
    "################################"
   ]
  },
  {
   "cell_type": "markdown",
   "id": "bed3c565",
   "metadata": {},
   "source": [
    "# 6) Compute the centroids for a given assignment\n",
    "Complete the function below that takes the assignment and the data matrix and returns centroids placed at the mean of each cluster. The return value should be a numpy array with shape `(K,D)`. (6 pts)"
   ]
  },
  {
   "cell_type": "code",
   "execution_count": 9,
   "id": "fe53f2f7",
   "metadata": {},
   "outputs": [],
   "source": [
    "def place_centroids(r, X):\n",
    "    K = r.shape[1]\n",
    "    D = X.shape[1]\n",
    "    C = np.empty((K,D))\n",
    "    \n",
    "    for i in range(K):\n",
    "        cluster = X[r[:,i],:]\n",
    "        centroid_new = np.mean(cluster)\n",
    "        C[i] = centroid_new\n",
    "    \n",
    "    # ADD YOUR CODE HERE\n",
    "    \n",
    "    return C"
   ]
  },
  {
   "cell_type": "code",
   "execution_count": 135,
   "id": "b13900ff",
   "metadata": {},
   "outputs": [
    {
     "name": "stdout",
     "output_type": "stream",
     "text": [
      "[[0.35460789 0.35460789]\n",
      " [0.68940724 0.68940724]\n",
      " [0.4035599  0.4035599 ]]\n"
     ]
    }
   ],
   "source": [
    "def test6():\n",
    "    a = np.array([[1,2],[2,4]])\n",
    "    a[1] = [3,4]\n",
    "    #print(a[1])\n",
    "    print(place_centroids(r,X))\n",
    "test6()"
   ]
  },
  {
   "cell_type": "code",
   "execution_count": null,
   "id": "8f94b5fd",
   "metadata": {},
   "outputs": [],
   "source": [
    "################################\n",
    "# Reporting. Do not modify.#####\n",
    "result['C6'] = place_centroids(result['r4'], X)\n",
    "################################"
   ]
  },
  {
   "cell_type": "markdown",
   "id": "2fe85937",
   "metadata": {},
   "source": [
    "# 7) Code simple k-means\n",
    "Now we will use some of the functions we've developed to code the full k-means algorithm. \n",
    "\n",
    "Most of the algorithm is done for you in terms of the functions you've already written. Your task is only to implement the stopping criterion, which is to stop as soon as the assignment `r` does not change from one iteration to the next (4 pts)."
   ]
  },
  {
   "cell_type": "code",
   "execution_count": 10,
   "id": "8bba0755",
   "metadata": {},
   "outputs": [],
   "source": [
    "def run_kmeans(X,C):\n",
    "\n",
    "    done = False\n",
    "    first = True\n",
    "    \n",
    "    while not done:\n",
    "\n",
    "        r = assign_samples_to_nearest_centroid(X,C)\n",
    "        rnew = r\n",
    "        C = place_centroids(r, X)\n",
    "\n",
    "        if first  == False: # REPLACE THE True WITH THE CORRECT STOPPING CRITERION\n",
    "            if np.all(r == rold):\n",
    "                break\n",
    "            \n",
    "        rold = r\n",
    "        first = False\n",
    "\n",
    "    return C, r"
   ]
  },
  {
   "cell_type": "code",
   "execution_count": 11,
   "id": "7340a5ac",
   "metadata": {},
   "outputs": [
    {
     "ename": "NameError",
     "evalue": "name 'C' is not defined",
     "output_type": "error",
     "traceback": [
      "\u001b[0;31m---------------------------------------------------------------------------\u001b[0m",
      "\u001b[0;31mNameError\u001b[0m                                 Traceback (most recent call last)",
      "Input \u001b[0;32mIn [11]\u001b[0m, in \u001b[0;36m<module>\u001b[0;34m\u001b[0m\n\u001b[1;32m      1\u001b[0m \u001b[38;5;28;01mdef\u001b[39;00m \u001b[38;5;21mtest7\u001b[39m():\n\u001b[1;32m      2\u001b[0m     \u001b[38;5;28mprint\u001b[39m(run_kmeans(X,C))\n\u001b[0;32m----> 3\u001b[0m \u001b[43mtest7\u001b[49m\u001b[43m(\u001b[49m\u001b[43m)\u001b[49m\n",
      "Input \u001b[0;32mIn [11]\u001b[0m, in \u001b[0;36mtest7\u001b[0;34m()\u001b[0m\n\u001b[1;32m      1\u001b[0m \u001b[38;5;28;01mdef\u001b[39;00m \u001b[38;5;21mtest7\u001b[39m():\n\u001b[0;32m----> 2\u001b[0m     \u001b[38;5;28mprint\u001b[39m(run_kmeans(X,\u001b[43mC\u001b[49m))\n",
      "\u001b[0;31mNameError\u001b[0m: name 'C' is not defined"
     ]
    }
   ],
   "source": [
    "def test7():\n",
    "    print(run_kmeans(X,C))\n",
    "test7()"
   ]
  },
  {
   "cell_type": "code",
   "execution_count": null,
   "id": "09b8ffc8",
   "metadata": {},
   "outputs": [],
   "source": [
    "################################\n",
    "# Reporting. Do not modify.#####\n",
    "result['kmeans7'] = run_kmeans(X,result['C3'])\n",
    "################################"
   ]
  },
  {
   "cell_type": "markdown",
   "id": "6d3b6abb",
   "metadata": {},
   "source": [
    "# 8) Evaluate the cost function \n",
    "Complete the function below that evaluates the intertia for a given data matrix, centroid placement, and assignment matrix. The result is a scalar value. (6 pts)"
   ]
  },
  {
   "cell_type": "code",
   "execution_count": null,
   "id": "8e90e43e",
   "metadata": {},
   "outputs": [],
   "source": [
    "def eval_cost(X,C,r):\n",
    "    K = r.shape[1]\n",
    "    cost = None # REPLACE THE None WITH THE CORRECT COST FUNCTION\n",
    "    return cost"
   ]
  },
  {
   "cell_type": "code",
   "execution_count": null,
   "id": "fdcb797f",
   "metadata": {},
   "outputs": [],
   "source": [
    "################################\n",
    "# Reporting. Do not modify.#####\n",
    "result['cost8'] = eval_cost(X,result['C3'],result['r4'])\n",
    "################################"
   ]
  },
  {
   "cell_type": "markdown",
   "id": "4ad7dc0f",
   "metadata": {},
   "source": [
    "# 9) Ensemble run\n",
    "Complete the function below that runs kmeans `ensemblesize` times, each with a different initial centroid placement. These initial placements should be chosen with `initialize_centroids(K,X)`. The function should return the single run with the lowest cost. Results should be returned in a **dictionary** with keys `('C','r','cost')`. `C` are the best centroids, `r` is the best assignment, and `cost` is the corresponding cost. (6 pts)"
   ]
  },
  {
   "cell_type": "code",
   "execution_count": null,
   "id": "af323e60",
   "metadata": {},
   "outputs": [],
   "source": [
    "def ensemble_run(K,X,ensemblesize):\n",
    "    best_run = {'C':None,'r':None,'cost':None}\n",
    "    for e in range(ensemblesize):\n",
    "        C = initialize_centroids(K,X)\n",
    "        C, r = run_kmeans(X,C)\n",
    "        cost = eval_cost(X,C,r)\n",
    "       \n",
    "        # ADD CODE HERE THAT WILL KEEP ONLY THE BEST RUN\n",
    "    \n",
    "    return best_run"
   ]
  },
  {
   "cell_type": "code",
   "execution_count": null,
   "id": "561898e3",
   "metadata": {},
   "outputs": [],
   "source": [
    "################################\n",
    "# Reporting. Do not modify.#####\n",
    "result['ens9'] = ensemble_run(3,X,100)\n",
    "################################"
   ]
  },
  {
   "cell_type": "markdown",
   "id": "61d67976",
   "metadata": {},
   "source": [
    "# 10) Iteration over K\n",
    "Complete the function below that takes the data matrix, a sample size, and a maximum number of clusters to consider (`maxK`).  The function should run `ensemble_run` for all values of `K` from 1 to `maxK`. It should return a numpy array of length `maxK-1` with the best case cost for each value of `K`. (6 pts)"
   ]
  },
  {
   "cell_type": "code",
   "execution_count": null,
   "id": "afc7024c",
   "metadata": {},
   "outputs": [],
   "source": [
    "def K_iteration(X, ensemblesize, maxK=10):\n",
    "    allK = list(range(1,maxK))\n",
    "    best_cost = np.empty(len(allK))\n",
    "    \n",
    "    # ADD CODE HERE\n",
    "    \n",
    "    return best_cost"
   ]
  },
  {
   "cell_type": "markdown",
   "id": "46bdd5ca",
   "metadata": {},
   "source": [
    "# 11) Selecting K\n",
    "\n",
    "We now run `K_iteration` with `ensemblesize=200`, `maxK=10` and plot the result. The plot shows the percent improvement of each `K` over `K-1`. From this plot, choose an ideal value for `K` and report it in the results dictionary as `Kideal`. (4 pts)"
   ]
  },
  {
   "cell_type": "code",
   "execution_count": null,
   "id": "2ea62719",
   "metadata": {},
   "outputs": [],
   "source": [
    "ensemblesize = 200\n",
    "maxK=10\n",
    "best_cost = K_iteration(X, ensemblesize, maxK)\n",
    "\n",
    "fig11 = plt.figure(figsize=(8,5))\n",
    "allK = list(range(1,maxK))\n",
    "plt.plot(allK[1:],100*np.abs(np.diff(best_cost)) / best_cost[1:],\n",
    "         linewidth=3,\n",
    "         marker='o',\n",
    "         markersize=8)\n",
    "plt.grid()\n",
    "plt.xticks(fontsize=16)\n",
    "plt.yticks(fontsize=16)\n",
    "plt.show"
   ]
  },
  {
   "cell_type": "code",
   "execution_count": null,
   "id": "cb3be597",
   "metadata": {},
   "outputs": [],
   "source": [
    "# REPLACE THE None WITH YOUR Kideal VALUE.\n",
    "\n",
    "Kideal = None"
   ]
  },
  {
   "cell_type": "code",
   "execution_count": null,
   "id": "fca282c2",
   "metadata": {},
   "outputs": [],
   "source": [
    "################################\n",
    "# Reporting. Do not modify.#####\n",
    "result['fig11'] = fig11\n",
    "result['Kideal'] = Kideal\n",
    "################################"
   ]
  },
  {
   "cell_type": "markdown",
   "id": "9a3546c8",
   "metadata": {},
   "source": [
    "---\n",
    "## Do not modify below this"
   ]
  },
  {
   "cell_type": "code",
   "execution_count": null,
   "id": "071c6e74",
   "metadata": {},
   "outputs": [],
   "source": [
    "with open('{}.pickle'.format(result['group']),'wb') as file:\n",
    "    pickle.dump(result,file)"
   ]
  }
 ],
 "metadata": {
  "kernelspec": {
   "display_name": "Python 3 (ipykernel)",
   "language": "python",
   "name": "python3"
  },
  "language_info": {
   "codemirror_mode": {
    "name": "ipython",
    "version": 3
   },
   "file_extension": ".py",
   "mimetype": "text/x-python",
   "name": "python",
   "nbconvert_exporter": "python",
   "pygments_lexer": "ipython3",
   "version": "3.9.10"
  }
 },
 "nbformat": 4,
 "nbformat_minor": 5
}
