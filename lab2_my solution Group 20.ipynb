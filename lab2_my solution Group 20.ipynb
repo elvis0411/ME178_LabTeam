{
 "cells": [
  {
   "cell_type": "markdown",
   "id": "31ad26da",
   "metadata": {},
   "source": [
    "---\n",
    "\n",
    "<h1><center>SDSE Lab 2 <br><br> Gradient descent and <br> Stochastic Gradient Descent </center></h1>\n",
    "\n",
    "---"
   ]
  },
  {
   "cell_type": "markdown",
   "id": "b950901d",
   "metadata": {},
   "source": [
    "Note: The format for the report is as a Jupyter Notebook. Please include the section number and SIDs of the members of your group in the results dictionary. A single notebook should be submitted as a group submission in Gradescope. "
   ]
  },
  {
   "cell_type": "code",
   "execution_count": 64,
   "id": "174d9dc1",
   "metadata": {},
   "outputs": [],
   "source": [
    "result = {\n",
    "    'section_number' : ['Helen Bergstrom', 'Cassie Young', 'Elvis Lo'], # enter your student id here\n",
    "    'SIDs': [3033625729,0,0] # enter the SIDs for the group members\n",
    "}"
   ]
  },
  {
   "cell_type": "markdown",
   "id": "1a7366e6",
   "metadata": {},
   "source": [
    "# Introduction"
   ]
  },
  {
   "cell_type": "markdown",
   "id": "ebf83570",
   "metadata": {},
   "source": [
    "In this lab we will explore the gradient descent and stochastic gradient descent algorithms for solving a least squares optimization problem. The setup is as follows. We wish to model a process with scalar input $X$ and scalar output $Y$. Both of these are real-valued random variables; their sample spaces are the real line. The joint distribution of $X$ and $Y$ is given as:\n",
    "\\begin{align*}\n",
    "X &\\sim \\mathcal{U}(0,1) \\\\\n",
    "Y|X\\!=\\!x &\\sim \\mathcal{N}( \\theta_0 + \\theta_1 x ,\\sigma^2_\\epsilon)\n",
    "\\end{align*}\n",
    "This definition of $Y|X\\!=\\!x$ is equivalent to,\n",
    "\\begin{equation*}\n",
    "Y = \\theta_0 + \\theta_1 X + \\epsilon\n",
    "\\end{equation*}\n",
    "with $\\epsilon\\sim\\mathcal{N}(0,\\sigma^2_\\epsilon)$."
   ]
  },
  {
   "cell_type": "code",
   "execution_count": 6,
   "id": "ecd43a78",
   "metadata": {},
   "outputs": [],
   "source": [
    "import numpy as np\n",
    "import matplotlib.pyplot as plt\n",
    "import pickle\n",
    "import scipy.stats as stats"
   ]
  },
  {
   "cell_type": "markdown",
   "id": "9edcb6d4",
   "metadata": {},
   "source": [
    "# 1. Sampling the joint distribution"
   ]
  },
  {
   "cell_type": "markdown",
   "id": "0753ef4b",
   "metadata": {},
   "source": [
    "We will first construct a synthetic dataset by sampling  from $(X,Y)$. "
   ]
  },
  {
   "cell_type": "markdown",
   "id": "97d3aff5",
   "metadata": {},
   "source": [
    "## (1a)"
   ]
  },
  {
   "cell_type": "markdown",
   "id": "f32d27b6",
   "metadata": {},
   "source": [
    "Write a function called `sampleXY` that produces a dataset $\\{(x_n,y_n)\\}_N$ of iid samples from $(X,Y)$, given arguments $N$, $\\theta_0$, $\\theta_1$, and $\\sigma^2_\\epsilon$. The output of this function should be a numpy array with shape = $(N,2)$. "
   ]
  },
  {
   "cell_type": "code",
   "execution_count": 67,
   "id": "23ed7c4c",
   "metadata": {},
   "outputs": [],
   "source": [
    "def sampleXY(N, theta0, theta1, sigma2_eps):\n",
    "    samples = np.empty((N,2))\n",
    "    X = np.random.uniform(0.0,1.0,N)\n",
    "    Y = theta0 + theta1*X + np.random.normal(0,sigma2_eps,N)\n",
    "    samples = [X,Y]\n",
    "    return samples    \n",
    "   \n",
    "    #pass"
   ]
  },
  {
   "cell_type": "code",
   "execution_count": 68,
   "id": "abb9e3a3",
   "metadata": {},
   "outputs": [],
   "source": [
    "N = 40\n",
    "theta0=0.2\n",
    "theta1=-0.4\n",
    "sigma_eps=np.sqrt(0.0049)\n",
    "XYsamp = sampleXY(N, theta0, theta1, sigma_eps)"
   ]
  },
  {
   "cell_type": "markdown",
   "id": "dd5c49f8",
   "metadata": {},
   "source": [
    "Run `sampleXY` with $N\\!=\\!40$, $\\theta_0\\!=\\!0.2$, $\\theta_1\\!=\\!-0.4$, and $\\sigma^2_\\epsilon\\!=\\!0.0049$ and assign the result to the variable `XYsamp`. Create a plot showing the line $y=\\theta_0 + \\theta_1 x$, overlaid with a scatter plot of `XYsamp`. The plot should have labels on the x and y axes. (4 pts)"
   ]
  },
  {
   "cell_type": "code",
   "execution_count": 71,
   "id": "af952ef5",
   "metadata": {},
   "outputs": [
    {
     "data": {
      "text/plain": [
       "<function matplotlib.pyplot.show(close=None, block=None)>"
      ]
     },
     "execution_count": 71,
     "metadata": {},
     "output_type": "execute_result"
    },
    {
     "data": {
      "image/png": "[encoded data removed]",
      "text/plain": [
       "<Figure size 432x288 with 1 Axes>"
      ]
     },
     "metadata": {
      "needs_background": "light"
     },
     "output_type": "display_data"
    }
   ],
   "source": [
    "x = np.arange(0,1.2,0.1)\n",
    "y = theta0 + theta1*x\n",
    "fig1 = plt.figure()\n",
    "plt.scatter(XYsamp[0],XYsamp[1], color='red', marker=\"o\",s=50)\n",
    "plt.plot(x,y, marker = 'None', color = 'b', linestyle='-')\n",
    "plt.xlabel('X')\n",
    "plt.ylabel('Y')\n",
    "plt.show\n"
   ]
  },
  {
   "cell_type": "code",
   "execution_count": 72,
   "id": "183ce29d",
   "metadata": {},
   "outputs": [],
   "source": [
    "################################\n",
    "# Reporting. Do not modify.#####\n",
    "result['fig1'] = fig1\n",
    "################################"
   ]
  },
  {
   "cell_type": "markdown",
   "id": "314585ca",
   "metadata": {},
   "source": [
    "We will now overwrite the data you sampled with another dataset contained in the file `1d_data.pickle`. This is so the results are predictable."
   ]
  },
  {
   "cell_type": "code",
   "execution_count": 73,
   "id": "4782fff4",
   "metadata": {},
   "outputs": [],
   "source": [
    "with open('./1d_data.pickle', 'rb') as file:\n",
    "    XYsamp = pickle.load(file)"
   ]
  },
  {
   "cell_type": "markdown",
   "id": "419c4147",
   "metadata": {},
   "source": [
    "# 2. Least squares linear regression"
   ]
  },
  {
   "cell_type": "markdown",
   "id": "36327370",
   "metadata": {},
   "source": [
    "We will now produce estimates of $\\theta_0$ and $\\theta_1$ corresponding to the least squares estimate of a straigt line fitted to `XYsamp`. The model in this case is:\n",
    "\n",
    "\\begin{equation*}\n",
    "\\hat y(x) = h(x;\\hat\\theta_0,\\hat\\theta_1) =  \\hat\\theta_0 +  \\hat\\theta_1 x\n",
    "\\end{equation*}\n",
    "\n",
    "\n",
    "The error for each sample is the squared difference between the sampled and modeled values:\n",
    "\\begin{equation*}\n",
    "\\ell_n(\\hat\\theta_0,\\hat\\theta_1) = \\left( \\hat y(x_n) - y_n \\right)^2 = (\\hat \\theta_0 + \\hat \\theta_1 \\: x_n - y_n)^2 \n",
    "\\end{equation*}\n",
    "\n",
    "Notice a slightly confusing but crucial point: We are considering the error for the $n$'th sample ($\\ell_n$) as a function of the parameter estimates $\\hat\\theta_0$ and $\\hat\\theta_1$, with \"parameters\" $x_n$ and $y_n$, whereas the model $h$ is a function of $x$ with parameters $\\hat\\theta_0$ and $\\hat\\theta_1$. The roles of \"input\" and \"parameter\" are inverted. \n",
    "\n",
    "We define the matrix $\\Phi\\in\\mathbb{R}^{N\\times 2}$ such that the model can be written in matrix form:\n",
    "\\begin{equation*}\n",
    "\\mathbf{\\hat Y} = \\Phi \\: \\hat\\theta \n",
    "\\end{equation*}\n",
    "where \n",
    "\\begin{equation*}\n",
    "\\hat\\theta = \\begin{bmatrix}\\hat\\theta_0 \\\\ \\hat\\theta_1 \\end{bmatrix} \\hspace{3em} \\text{and} \\hspace{3em}\n",
    "\\mathbf{\\hat Y} = \\begin{bmatrix} \\hat y(x_1) \\\\ \\vdots \\\\ \\hat y(x_N) \\end{bmatrix} \n",
    "\\end{equation*}\n",
    "\n",
    "\n",
    "The total loss for candidate parameters $\\hat\\theta_0$ and $\\hat\\theta_1$ is defined as the sum of the losses for each sample:\n",
    "\\begin{equation*}\n",
    "L(\\hat\\theta_0, \\hat\\theta_1) \\;=\\; \\sum_{n=1}^{N} \\ell_n(\\hat\\theta_0, \\hat\\theta_1) \\;=\\; \\sum_{n=1}^{N} \\left( \\hat y(x_n) - y_n \\right)^2 \\;=\\; \\lvert\\lvert \\Phi \\hat\\theta-\\mathbf{Y} \\rvert\\rvert^2_2\n",
    "\\end{equation*}\n",
    "\n",
    "Thus the problem of finding the least squares estimates of $\\theta_0$ and $\\theta_1$ can be written as:\n",
    "\\begin{align*}\n",
    "&\\underset{\\hat\\theta_0,\\: \\hat\\theta_1}{\\text{minimize}} \\: L(\\hat\\theta_0, \\hat\\theta_1) \\\\\n",
    "\\equiv \\quad\n",
    "&\\underset{\\hat\\theta_0,\\: \\hat\\theta_1}{\\text{minimize}} \\:\n",
    "\\sum_{n=1}^{N} \\ell_n(\\hat\\theta_0, \\hat\\theta_1)\n",
    "\\\\\n",
    "\\equiv \\quad\n",
    "&\\underset{\\hat\\theta_0, \\:\\hat\\theta_1}{\\text{minimize}} \\: \\sum_{n=1}^{N} \\left( \\hat\\theta_0 + \\hat \\theta_1 \\:x_n - y_n \\right)^2 \\\\\n",
    "\\equiv \\quad\n",
    "&\\underset{\\hat\\theta}{\\text{minimize}} \\: \\lvert\\lvert \\Phi \\hat\\theta-\\mathbf{Y} \\rvert\\rvert^2_2\n",
    "\\end{align*}\n"
   ]
  },
  {
   "cell_type": "markdown",
   "id": "ba89e479",
   "metadata": {},
   "source": [
    "## (2a)"
   ]
  },
  {
   "cell_type": "markdown",
   "id": "3c4d58dd",
   "metadata": {},
   "source": [
    "Write a function called `solve_lr` that takes `XYsamp` as input, constructs $\\Phi$ and $\\mathbf{Y}$, and finds the exact solution to the least squares problem using the formula,\n",
    "\\begin{equation*}\n",
    "\\hat\\theta = (\\Phi^T \\Phi)^{-1}\\Phi^T \\mathbf{Y}\n",
    "\\end{equation*}\n",
    "This function should return the solution as a numpy array of length 2 with $\\hat\\theta_0$ in the zeroth position and $\\hat\\theta_1$ in the first position. (4 points)"
   ]
  },
  {
   "cell_type": "code",
   "execution_count": null,
   "id": "81bb11c0",
   "metadata": {},
   "outputs": [],
   "source": [
    "#def solve_lr(XYsamp):\n",
    "#    pass"
   ]
  },
  {
   "cell_type": "code",
   "execution_count": null,
   "id": "ebbb9086",
   "metadata": {},
   "outputs": [],
   "source": [
    "################################\n",
    "# Reporting. Do not modify.#####\n",
    "#result['theta_2a'] = solve_lr(XYsamp)\n",
    "################################"
   ]
  },
  {
   "cell_type": "markdown",
   "id": "d1a600bc",
   "metadata": {},
   "source": [
    "# 3. Gradient descent"
   ]
  },
  {
   "cell_type": "markdown",
   "id": "98f85d16",
   "metadata": {},
   "source": [
    "We will now write an iterative numerical algorithm for solving the least squares problem. We take the objective function of the problem to be:\n",
    "\\begin{equation*}\n",
    "J(\\hat\\theta_0,\\hat\\theta_1) = \\sum_{n=1}^{N} \\left( \\hat\\theta_0 + \\hat \\theta_1 \\:x_n - y_n \\right)^2\n",
    "\\end{equation*}"
   ]
  },
  {
   "cell_type": "markdown",
   "id": "bf0b9597",
   "metadata": {},
   "source": [
    "## (3a)"
   ]
  },
  {
   "cell_type": "markdown",
   "id": "2940417a",
   "metadata": {},
   "source": [
    "Write a function called `nablaJ` that takes `XYsamp`, $\\hat\\theta_0$, and $\\hat\\theta_1$ as inputs, and returns the gradient as a numpy array of length 2."
   ]
  },
  {
   "cell_type": "code",
   "execution_count": 123,
   "id": "72128258",
   "metadata": {},
   "outputs": [],
   "source": [
    "def nablaJ(XYsamp, theta0, theta1):\n",
    "    dJdtheta0 = (2*theta0 + theta1*XYsamp[0] - XYsamp[1])*1\n",
    "    dJdtheta1 = (2*theta0 + theta1*XYsamp[0] - XYsamp[1])*XYsamp[0]\n",
    "    grad = np.array([dJdtheta0.sum(),dJdtheta1.sum()])\n",
    "    return grad\n",
    "   "
   ]
  },
  {
   "cell_type": "code",
   "execution_count": 124,
   "id": "d74d7b2f",
   "metadata": {},
   "outputs": [
    {
     "name": "stdout",
     "output_type": "stream",
     "text": [
      "[ 0.26576476 -0.01593339]\n"
     ]
    }
   ],
   "source": [
    "nab = nablaJ(XYsamp, theta0, theta1)\n",
    "print(nab)"
   ]
  },
  {
   "cell_type": "code",
   "execution_count": 76,
   "id": "db39e28b",
   "metadata": {},
   "outputs": [],
   "source": [
    "################################\n",
    "# Reporting. Do not modify.#####\n",
    "result['nablaJ_3a_a'] = nablaJ(XYsamp,0.5,-1)\n",
    "result['nablaJ_3a_b'] = nablaJ(XYsamp,1.1,0.6)\n",
    "################################"
   ]
  },
  {
   "cell_type": "markdown",
   "id": "5ecce757",
   "metadata": {},
   "source": [
    "## (3b)"
   ]
  },
  {
   "cell_type": "markdown",
   "id": "5e2f6380",
   "metadata": {},
   "source": [
    "Write a function called `gradient_descent` that executes the gradient descent algorithm. This function should take as input \n",
    "\n",
    "+ The dataset `XYsamp`\n",
    "+ the total number of steps to take $K$\n",
    "+ the step size $\\gamma$\n",
    "+ the initial condition Theta0 as a numpy array of length 2. \n",
    "\n",
    "It should return the trajectory as a with shape = `(K,2)`. (8 pts)"
   ]
  },
  {
   "cell_type": "code",
   "execution_count": 88,
   "id": "5537afb1",
   "metadata": {},
   "outputs": [],
   "source": [
    "def gradient_descent(XYsamp,K,gamma,Theta0):\n",
    "    trajectory = np.empty((K,2)) #create an empty trajectory\n",
    "    trajectory[0,:] = Theta0\n",
    "    for k in range(K-1):\n",
    "        trajectory[k+1,:]=trajectory[k,:]-gamma*nablaJ(XYsamp,trajectory[k,0],trajectory[k,1])\n",
    "    return trajectory\n",
    "   "
   ]
  },
  {
   "cell_type": "code",
   "execution_count": 89,
   "id": "0766a5b0",
   "metadata": {},
   "outputs": [],
   "source": [
    "################################\n",
    "# Reporting. Do not modify.#####\n",
    "result['gd_3b_a'] = gradient_descent(XYsamp,10,0.1,np.array([-0.5,0.5]))\n",
    "result['gd_3b_b'] = gradient_descent(XYsamp,20,0.01,np.array([0.5,-0.5]))\n",
    "################################"
   ]
  },
  {
   "cell_type": "markdown",
   "id": "07150daa",
   "metadata": {},
   "source": [
    "## (3c)"
   ]
  },
  {
   "cell_type": "markdown",
   "id": "07442e5f",
   "metadata": {},
   "source": [
    "Complete the `run_gd_on_grid(theta0_grid,theta1_grid,K,gamma)`. This function takes as input\n",
    "+ `theta0_grid` and `theta1_grid`. These are a 5x5 grid of values of $\\hat\\theta_0$ and $\\hat\\theta_1$. \n",
    "+ `K`: the number of steps to take, and\n",
    "+ `gamma`: the step size. \n",
    "\n",
    "The function should return a numpy array with shape (5,5,K,2), where the (i,j,:,:) is a (K,2) trajectory of parameter values. \n",
    "\n",
    "Run the function with $K=200$, $\\gamma=0.2$ and save the result to `trajectories`.\n",
    "\n",
    "Note: The code for creating the 5x5 grid is provided. \n",
    "\n",
    "(8 pts)"
   ]
  },
  {
   "cell_type": "code",
   "execution_count": 197,
   "id": "ea5944e2",
   "metadata": {},
   "outputs": [],
   "source": [
    "# Do not alter this code. It creates the 5x5 grid of values \n",
    "# that are passed to `run_gd_on_grid`\n",
    "def make_grid(gridN):\n",
    "    theta_0_array = np.linspace(-1,1,gridN)\n",
    "    theta_1_array = np.linspace(-1,1,gridN)\n",
    "    return  np.meshgrid(theta_0_array,theta_1_array)\n",
    "\n",
    "gridN = 5\n",
    "theta0_grid,theta1_grid = make_grid(gridN)"
   ]
  },
  {
   "cell_type": "code",
   "execution_count": 190,
   "id": "cd1c7eb7",
   "metadata": {},
   "outputs": [],
   "source": [
    "#theta0_grid = theta0_grid.astype(int)\n",
    "#theta1_grid = theta1_grid.astype(int)"
   ]
  },
  {
   "cell_type": "code",
   "execution_count": 198,
   "id": "af14c144",
   "metadata": {},
   "outputs": [],
   "source": [
    "def run_gd_on_grid(theta0_grid,theta1_grid,K,gamma):\n",
    "    trajectory = np.empty((5,5,K,2))\n",
    "    for i in range(theta0_grid.shape[0]):\n",
    "        for j in range(theta0_grid.shape[1]):\n",
    "            trajectory[i,j,:,:] = gradient_descent(XYsamp,K,gamma,Theta0=[theta0_grid[i,j], theta1_grid[i,j]]) \n",
    "    return trajectory\n",
    "\n",
    "trajectories =  run_gd_on_grid(theta0_grid,theta1_grid,K=200,gamma=0.2)\n",
    "  "
   ]
  },
  {
   "cell_type": "code",
   "execution_count": 147,
   "id": "411c59ad",
   "metadata": {},
   "outputs": [],
   "source": [
    "################################\n",
    "# Reporting. Do not modify.#####\n",
    "result['grid_3c'] = run_gd_on_grid(theta0_grid,theta1_grid,K=200,gamma=0.2)\n",
    "################################"
   ]
  },
  {
   "cell_type": "code",
   "execution_count": 199,
   "id": "d763bb21",
   "metadata": {
    "collapsed": true
   },
   "outputs": [
    {
     "name": "stdout",
     "output_type": "stream",
     "text": [
      "[[[[-1.         -1.        ]\n",
      "   [-0.06387147 -0.87149108]\n",
      "   [ 0.11708268 -0.83610842]\n",
      "   ...\n",
      "   [ 0.08022912  0.47785418]\n",
      "   [ 0.08005143  0.48073911]\n",
      "   [ 0.0798751   0.48360198]]\n",
      "\n",
      "  [[-0.5        -1.        ]\n",
      "   [ 0.03612853 -0.92029355]\n",
      "   [ 0.13946436 -0.89400471]\n",
      "   ...\n",
      "   [ 0.08105867  0.46438568]\n",
      "   [ 0.08087463  0.46737364]\n",
      "   [ 0.08069201  0.47033874]]\n",
      "\n",
      "  [[ 0.         -1.        ]\n",
      "   [ 0.13612853 -0.96909601]\n",
      "   [ 0.16184604 -0.95190099]\n",
      "   ...\n",
      "   [ 0.08188822  0.45091719]\n",
      "   [ 0.08169784  0.45400816]\n",
      "   [ 0.08150892  0.45707549]]\n",
      "\n",
      "  [[ 0.5        -1.        ]\n",
      "   [ 0.23612853 -1.01789847]\n",
      "   [ 0.18422772 -1.00979728]\n",
      "   ...\n",
      "   [ 0.08271777  0.4374487 ]\n",
      "   [ 0.08252104  0.44064269]\n",
      "   [ 0.08232582  0.44381225]]\n",
      "\n",
      "  [[ 1.         -1.        ]\n",
      "   [ 0.33612853 -1.06670093]\n",
      "   [ 0.2066094  -1.06769357]\n",
      "   ...\n",
      "   [ 0.08354732  0.4239802 ]\n",
      "   [ 0.08334425  0.42727721]\n",
      "   [ 0.08314273  0.43054901]]]\n",
      "\n",
      "\n",
      " [[[-1.         -0.5       ]\n",
      "   [-0.08827271 -0.37832136]\n",
      "   [ 0.08813454 -0.34729399]\n",
      "   ...\n",
      "   [ 0.07349487  0.58719062]\n",
      "   [ 0.07336869  0.58923926]\n",
      "   [ 0.07324347  0.59127222]]\n",
      "\n",
      "  [[-0.5        -0.5       ]\n",
      "   [ 0.01172729 -0.42712382]\n",
      "   [ 0.11051622 -0.40519027]\n",
      "   ...\n",
      "   [ 0.07432442  0.57372213]\n",
      "   [ 0.07419189  0.57587378]\n",
      "   [ 0.07406038  0.57800898]]\n",
      "\n",
      "  [[ 0.         -0.5       ]\n",
      "   [ 0.11172729 -0.47592628]\n",
      "   [ 0.1328979  -0.46308656]\n",
      "   ...\n",
      "   [ 0.07515397  0.56025364]\n",
      "   [ 0.0750151   0.56250831]\n",
      "   [ 0.07487729  0.56474574]]\n",
      "\n",
      "  [[ 0.5        -0.5       ]\n",
      "   [ 0.21172729 -0.52472874]\n",
      "   [ 0.15527958 -0.52098285]\n",
      "   ...\n",
      "   [ 0.07598352  0.54678514]\n",
      "   [ 0.07583831  0.54914284]\n",
      "   [ 0.0756942   0.55148249]]\n",
      "\n",
      "  [[ 1.         -0.5       ]\n",
      "   [ 0.31172729 -0.57353121]\n",
      "   [ 0.17766126 -0.57887913]\n",
      "   ...\n",
      "   [ 0.07681307  0.53331665]\n",
      "   [ 0.07666151  0.53577736]\n",
      "   [ 0.07651111  0.53821925]]]\n",
      "\n",
      "\n",
      " [[[-1.          0.        ]\n",
      "   [-0.11267394  0.11484837]\n",
      "   [ 0.05918639  0.14152045]\n",
      "   ...\n",
      "   [ 0.06676062  0.69652707]\n",
      "   [ 0.06668595  0.69773941]\n",
      "   [ 0.06661185  0.69894247]]\n",
      "\n",
      "  [[-0.5         0.        ]\n",
      "   [-0.01267394  0.06604591]\n",
      "   [ 0.08156807  0.08362416]\n",
      "   ...\n",
      "   [ 0.06759017  0.68305858]\n",
      "   [ 0.06750916  0.68437393]\n",
      "   [ 0.06742876  0.68567922]]\n",
      "\n",
      "  [[ 0.          0.        ]\n",
      "   [ 0.08732606  0.01724344]\n",
      "   [ 0.10394975  0.02572788]\n",
      "   ...\n",
      "   [ 0.06841972  0.66959008]\n",
      "   [ 0.06833236  0.67100846]\n",
      "   [ 0.06824567  0.67241598]]\n",
      "\n",
      "  [[ 0.5         0.        ]\n",
      "   [ 0.18732606 -0.03155902]\n",
      "   [ 0.12633143 -0.03216841]\n",
      "   ...\n",
      "   [ 0.06924927  0.65612159]\n",
      "   [ 0.06915557  0.65764298]\n",
      "   [ 0.06906258  0.65915274]]\n",
      "\n",
      "  [[ 1.          0.        ]\n",
      "   [ 0.28732606 -0.08036148]\n",
      "   [ 0.14871311 -0.0900647 ]\n",
      "   ...\n",
      "   [ 0.07007883  0.6426531 ]\n",
      "   [ 0.06997878  0.64427751]\n",
      "   [ 0.06987949  0.64588949]]]\n",
      "\n",
      "\n",
      " [[[-1.          0.5       ]\n",
      "   [-0.13707517  0.60801809]\n",
      "   [ 0.03023825  0.63033489]\n",
      "   ...\n",
      "   [ 0.06002638  0.80586352]\n",
      "   [ 0.06000321  0.80623955]\n",
      "   [ 0.05998023  0.80661271]]\n",
      "\n",
      "  [[-0.5         0.5       ]\n",
      "   [-0.03707517  0.55921563]\n",
      "   [ 0.05261993  0.5724386 ]\n",
      "   ...\n",
      "   [ 0.06085593  0.79239503]\n",
      "   [ 0.06082642  0.79287408]\n",
      "   [ 0.06079714  0.79334947]]\n",
      "\n",
      "  [[ 0.          0.5       ]\n",
      "   [ 0.06292483  0.51041317]\n",
      "   [ 0.07500161  0.51454231]\n",
      "   ...\n",
      "   [ 0.06168548  0.77892653]\n",
      "   [ 0.06164963  0.77950861]\n",
      "   [ 0.06161405  0.78008623]]\n",
      "\n",
      "  [[ 0.5         0.5       ]\n",
      "   [ 0.16292483  0.46161071]\n",
      "   [ 0.09738329  0.45664603]\n",
      "   ...\n",
      "   [ 0.06251503  0.76545804]\n",
      "   [ 0.06247283  0.76614313]\n",
      "   [ 0.06243096  0.76682298]]\n",
      "\n",
      "  [[ 1.          0.5       ]\n",
      "   [ 0.26292483  0.41280824]\n",
      "   [ 0.11976497  0.39874974]\n",
      "   ...\n",
      "   [ 0.06334458  0.75198955]\n",
      "   [ 0.06329604  0.75277766]\n",
      "   [ 0.06324787  0.75355974]]]\n",
      "\n",
      "\n",
      " [[[-1.          1.        ]\n",
      "   [-0.1614764   1.10118782]\n",
      "   [ 0.00129011  1.11914932]\n",
      "   ...\n",
      "   [ 0.05329213  0.91519997]\n",
      "   [ 0.05332048  0.9147397 ]\n",
      "   [ 0.05334861  0.91428296]]\n",
      "\n",
      "  [[-0.5         1.        ]\n",
      "   [-0.0614764   1.05238536]\n",
      "   [ 0.02367179  1.06125304]\n",
      "   ...\n",
      "   [ 0.05412168  0.90173147]\n",
      "   [ 0.05414368  0.90137423]\n",
      "   [ 0.05416552  0.90101971]]\n",
      "\n",
      "  [[ 0.          1.        ]\n",
      "   [ 0.0385236   1.00358289]\n",
      "   [ 0.04605347  1.00335675]\n",
      "   ...\n",
      "   [ 0.05495123  0.88826298]\n",
      "   [ 0.05496689  0.88800875]\n",
      "   [ 0.05498243  0.88775647]]\n",
      "\n",
      "  [[ 0.5         1.        ]\n",
      "   [ 0.1385236   0.95478043]\n",
      "   [ 0.06843515  0.94546046]\n",
      "   ...\n",
      "   [ 0.05578078  0.87479449]\n",
      "   [ 0.05579009  0.87464328]\n",
      "   [ 0.05579934  0.87449323]]\n",
      "\n",
      "  [[ 1.          1.        ]\n",
      "   [ 0.2385236   0.90597797]\n",
      "   [ 0.09081683  0.88756418]\n",
      "   ...\n",
      "   [ 0.05661033  0.86132599]\n",
      "   [ 0.0566133   0.8612778 ]\n",
      "   [ 0.05661625  0.86122998]]]]\n"
     ]
    }
   ],
   "source": [
    "print( run_gd_on_grid(theta0_grid,theta1_grid,K=200,gamma=0.2))"
   ]
  },
  {
   "cell_type": "markdown",
   "id": "e37df710",
   "metadata": {},
   "source": [
    "## (3d)"
   ]
  },
  {
   "cell_type": "markdown",
   "id": "4be7f0f5",
   "metadata": {},
   "source": [
    "Complete the function below that plots the error vectors for each of the 25 trajectories in a single plot. The error for each trajectory is an array of length 200, with the $k$'th element computed as:\n",
    "\\begin{equation*}\n",
    "e_k := \\sqrt{ (\\hat\\theta_{0,k}-\\theta_0)^2 + (\\hat\\theta_{1,k}-\\theta_1)^2 } \n",
    "\\end{equation*}\n",
    "Here $k\\in[1,...,K]$ is the gradient descent iteration step. Plot all 25 of them on a single plot with the iteration index on the x axis and the logarithm of the error on the y axis. (8 pts) "
   ]
  },
  {
   "cell_type": "code",
   "execution_count": 179,
   "id": "3f374a3b",
   "metadata": {},
   "outputs": [],
   "source": [
    "theta0_real=0.2\n",
    "theta1_real=-0.4\n",
    "               \n",
    "def plot_error(trajectories):\n",
    "    errors= np.empty((5,5,200,1))\n",
    "    errors= np.sqrt((trajectories[:,:,:,0]-theta0_real)**2 + ((trajectories[:,:,:,1]-theta1_real)**2))\n",
    "    return errors\n"
   ]
  },
  {
   "cell_type": "code",
   "execution_count": 180,
   "id": "7e189d18",
   "metadata": {},
   "outputs": [
    {
     "name": "stdout",
     "output_type": "stream",
     "text": [
      "[[[1.34164079 0.54030732 0.44392098 ... 0.88598703 0.88886953 0.89173003]\n",
      "  [0.63245553 0.57266904 0.55321825 ... 0.85907535 0.86216318 0.86522745]\n",
      "  [0.63245553 0.57266904 0.55321825 ... 0.85907535 0.86216318 0.86522745]\n",
      "  [0.63245553 0.57266904 0.55321825 ... 0.85907535 0.86216318 0.86522745]\n",
      "  [1.         0.68045654 0.66772628 ... 0.83216861 0.83546164 0.83872956]]\n",
      "\n",
      " [[1.26491106 0.6023569  0.55952915 ... 1.10459239 1.10580488 1.10700811]\n",
      "  [0.4472136  0.4321892  0.43642855 ... 1.07765315 1.07907158 1.08047917]\n",
      "  [0.4472136  0.4321892  0.43642855 ... 1.07765315 1.07907158 1.08047917]\n",
      "  [0.4472136  0.4321892  0.43642855 ... 1.07765315 1.07907158 1.08047917]\n",
      "  [0.89442719 0.33135272 0.31415002 ... 1.05071642 1.05234074 1.05395265]]\n",
      "\n",
      " [[1.26491106 0.6023569  0.55952915 ... 1.10459239 1.10580488 1.10700811]\n",
      "  [0.4472136  0.4321892  0.43642855 ... 1.07765315 1.07907158 1.08047917]\n",
      "  [0.4472136  0.4321892  0.43642855 ... 1.07765315 1.07907158 1.08047917]\n",
      "  [0.4472136  0.4321892  0.43642855 ... 1.07765315 1.07907158 1.08047917]\n",
      "  [0.89442719 0.33135272 0.31415002 ... 1.05071642 1.05234074 1.05395265]]\n",
      "\n",
      " [[1.26491106 0.6023569  0.55952915 ... 1.10459239 1.10580488 1.10700811]\n",
      "  [0.4472136  0.4321892  0.43642855 ... 1.07765315 1.07907158 1.08047917]\n",
      "  [0.4472136  0.4321892  0.43642855 ... 1.07765315 1.07907158 1.08047917]\n",
      "  [0.4472136  0.4321892  0.43642855 ... 1.07765315 1.07907158 1.08047917]\n",
      "  [0.89442719 0.33135272 0.31415002 ... 1.05071642 1.05234074 1.05395265]]\n",
      "\n",
      " [[1.84390889 1.54409522 1.53209017 ... 1.32335715 1.32289658 1.32243953]\n",
      "  [1.41421356 1.41284096 1.41177537 ... 1.29640297 1.29614858 1.29589615]\n",
      "  [1.41421356 1.41284096 1.41177537 ... 1.29640297 1.29614858 1.29589615]\n",
      "  [1.41421356 1.41284096 1.41177537 ... 1.29640297 1.29614858 1.29589615]\n",
      "  [1.61245155 1.30654603 1.29218516 ... 1.26945022 1.269402   1.26935415]]]\n"
     ]
    }
   ],
   "source": [
    "print(plot_error(trajectories))"
   ]
  },
  {
   "cell_type": "code",
   "execution_count": null,
   "id": "77adc8f9",
   "metadata": {},
   "outputs": [],
   "source": [
    "################################\n",
    "# Reporting. Do not modify.#####\n",
    "result['fig_3d'] = plot_error(result['grid_3c'])\n",
    "################################"
   ]
  },
  {
   "cell_type": "markdown",
   "id": "22aeffaf",
   "metadata": {},
   "source": [
    "## (3e)"
   ]
  },
  {
   "cell_type": "markdown",
   "id": "6183c16b",
   "metadata": {},
   "source": [
    "The `plot_quiver` function shown below creates an image of the $\\nabla_\\theta J$ as a vector field and returns the figure handle. \n",
    "\n",
    "Your task is to complete `plot_traj`. This function takes the existing figure handle as input (provided by `plot_quiver`) and should overlay it with the 25 trajectories obtained with gradient descent. Each trajectory should be plotted with a thin red line. `plot_traj` should then return the same figure handle. (6 pts)"
   ]
  },
  {
   "cell_type": "code",
   "execution_count": 217,
   "id": "b392df49",
   "metadata": {},
   "outputs": [],
   "source": [
    "def plot_quiver():\n",
    "    \n",
    "    gridN = 10\n",
    "    theta0_grid, theta1_grid = make_grid(gridN)\n",
    "    flatgrid = np.reshape([theta0_grid, theta1_grid],(2,gridN**2)).T\n",
    "    UV = np.empty(flatgrid.shape)\n",
    "    for i, (theta0z, theta1z) in enumerate(flatgrid):\n",
    "        UV[i,:] = nablaJ(XYsamp,theta0z, theta1z)\n",
    "    \n",
    "    fig = plt.figure(figsize=(8,8))\n",
    "    plt.quiver(flatgrid[:,0], flatgrid[:,1],-UV[:,0],-UV[:,1],scale=30)\n",
    "    \n",
    "    plt.xlabel('theta0',fontsize=15)\n",
    "    plt.ylabel('theta1',fontsize=15)\n",
    "    plt.plot(theta0,theta1,'o',markersize=16)\n",
    "    plt.axis([-1,1,-1,1])\n",
    "    return fig"
   ]
  },
  {
   "cell_type": "code",
   "execution_count": 221,
   "id": "b7e2fc9c",
   "metadata": {},
   "outputs": [
    {
     "data": {
      "image/png": "[encoded data removed]",
      "text/plain": [
       "<Figure size 576x576 with 1 Axes>"
      ]
     },
     "metadata": {
      "needs_background": "light"
     },
     "output_type": "display_data"
    }
   ],
   "source": [
    "plot_quiver();"
   ]
  },
  {
   "cell_type": "code",
   "execution_count": 218,
   "id": "c2d070a6",
   "metadata": {},
   "outputs": [],
   "source": [
    "def plot_traj(fig,trajectories):  \n",
    "    plt.figure(fig)\n",
    "    for i in range(trajectories.shape[0]):\n",
    "        for j in range(trajectories.shape[1]):\n",
    "            matrix = trajectories[i,j,:,:]\n",
    "            plt.plot(matrix[:,0],matrix[:,1], color='red')\n",
    "                                \n",
    "    return fig"
   ]
  },
  {
   "cell_type": "code",
   "execution_count": 219,
   "id": "39a3f2e0",
   "metadata": {},
   "outputs": [
    {
     "data": {
      "image/png": "[encoded data removed]",
      "text/plain": [
       "<Figure size 576x576 with 1 Axes>"
      ]
     },
     "metadata": {
      "needs_background": "light"
     },
     "output_type": "display_data"
    }
   ],
   "source": [
    "plot_traj(plot_quiver(),trajectories);"
   ]
  },
  {
   "cell_type": "code",
   "execution_count": null,
   "id": "5acdb7a9",
   "metadata": {},
   "outputs": [],
   "source": [
    "################################\n",
    "# Reporting. Do not modify.#####\n",
    "result['fig_3e'] = plot_traj(plot_quiver(),result['grid_3c'])\n",
    "################################"
   ]
  },
  {
   "cell_type": "markdown",
   "id": "ead58e37",
   "metadata": {},
   "source": [
    "## (3f)"
   ]
  },
  {
   "cell_type": "markdown",
   "id": "b20f30ae",
   "metadata": {},
   "source": [
    "Repeat parts (d) and (e) with $\\gamma=0.01$ and $\\gamma=0.7$. (0 pts)\n",
    "Note: This part is not awarded points. It is simply for you to appreciate the effect of the step size."
   ]
  },
  {
   "cell_type": "code",
   "execution_count": null,
   "id": "ce40954c",
   "metadata": {},
   "outputs": [],
   "source": [
    "################################\n",
    "# Reporting. Do not modify.#####\n",
    "trajectories2 = run_gd_on_grid(theta0_grid,theta1_grid ,K=200,gamma=0.01)\n",
    "result['fig_3fA_phase'] = plot_traj(plot_quiver(),trajectories2)\n",
    "result['fig_3fA_error'] = plot_error(trajectories2)\n",
    "################################"
   ]
  },
  {
   "cell_type": "code",
   "execution_count": null,
   "id": "d15fc74d",
   "metadata": {},
   "outputs": [],
   "source": [
    "################################\n",
    "# Reporting. Do not modify.#####\n",
    "trajectories3 = run_gd_on_grid(theta0_grid,theta1_grid ,K=200,gamma=0.7)\n",
    "result['fig_3fB_phase'] = plot_traj(plot_quiver(),trajectories3)\n",
    "result['fig_3fB_error'] = plot_error(trajectories3)\n",
    "################################"
   ]
  },
  {
   "cell_type": "markdown",
   "id": "c6f24ab1",
   "metadata": {},
   "source": [
    "# 4. Additive cost"
   ]
  },
  {
   "cell_type": "markdown",
   "id": "24640461",
   "metadata": {},
   "source": [
    "The deliverable for this part is a single plot is in the $\\theta_0, \\theta_1$ plane. The limits should be from -1 to 1 along both axes, as in previous parts. The plot should have these elements. (10 pts)\n",
    "\n",
    "+ For each sample $n$, draw a thin black line in the parameter space corresponding to $\\ell_n=0$. There should be a total of $N=40$ lines. \n",
    "+ Place a small dot at the intersection of every line. There will be a total of $N(N-1)/2$ such dots. Briefly explain the interpretation of these intersections. \n",
    "+ Plot a large dot at the location of the true parameter values. \n",
    "+ Overylay one of the gradient descent trajectories from part 3.\n",
    "\n",
    "Save the handle of the figure in the variable `fig4`. This will be added to the results dictionary."
   ]
  },
  {
   "cell_type": "code",
   "execution_count": null,
   "id": "19835332",
   "metadata": {},
   "outputs": [],
   "source": [
    "fig4"
   ]
  },
  {
   "cell_type": "code",
   "execution_count": null,
   "id": "20c498e3",
   "metadata": {},
   "outputs": [],
   "source": [
    "################################\n",
    "# Reporting. Do not modify.#####\n",
    "result['fig4'] = fig4\n",
    "################################"
   ]
  },
  {
   "cell_type": "markdown",
   "id": "d4670ba9",
   "metadata": {},
   "source": [
    "# 5. Stochastic Gradient Descent"
   ]
  },
  {
   "cell_type": "markdown",
   "id": "37c68bd1",
   "metadata": {},
   "source": [
    "## 5(a)"
   ]
  },
  {
   "cell_type": "markdown",
   "id": "0aad0f50",
   "metadata": {},
   "source": [
    "(10 pts) Code stochastic gradient descent. Complete the function `SGD` below. This function takes as arguments \n",
    "+ the dataset `XYsamp`, \n",
    "+ the step size $\\gamma$ and \n",
    "+ the number of epochs to run. \n",
    "\n",
    "`SGD` function should\n",
    "\n",
    "+ randomly choose the initial condition with uniform probability from $[-1,1]\\times[-1,1]$\n",
    "+ use batches of size 1,\n",
    "+ draw samples without replacement.\n",
    "\n",
    "The function should return the parameter trajectory. \n",
    "\n",
    "\n",
    "Run SGD with $\\gamma=0.1$ and 10 epochs. Recreate the plot from part 4 but using this SGD trajectory instead of GD. Save the figure handle as `fig5a`."
   ]
  },
  {
   "cell_type": "code",
   "execution_count": null,
   "id": "59ff45f5",
   "metadata": {},
   "outputs": [],
   "source": [
    "def SGD(XYsamp,gamma,epochs):\n",
    "    pass"
   ]
  },
  {
   "cell_type": "code",
   "execution_count": null,
   "id": "895928a1",
   "metadata": {},
   "outputs": [],
   "source": [
    "fig5a = plt.figure()"
   ]
  },
  {
   "cell_type": "code",
   "execution_count": null,
   "id": "d3902c86",
   "metadata": {},
   "outputs": [],
   "source": [
    "################################\n",
    "# Reporting. Do not modify.#####\n",
    "result['fig5a'] = fig5a\n",
    "################################"
   ]
  },
  {
   "cell_type": "markdown",
   "id": "2ce74ae9",
   "metadata": {},
   "source": [
    "## 5(b)"
   ]
  },
  {
   "cell_type": "markdown",
   "id": "19c4ab5c",
   "metadata": {},
   "source": [
    "Make the same plot with $\\gamma=0.01$ and $\\gamma=0.4$. Save the figure handles respectively as `fig5b1` and `fig5b2`. (6 pts) "
   ]
  },
  {
   "cell_type": "code",
   "execution_count": null,
   "id": "b21882b7",
   "metadata": {},
   "outputs": [],
   "source": [
    "fig5b1 = plt.figure()\n",
    "fig5b2 = plt.figure()"
   ]
  },
  {
   "cell_type": "code",
   "execution_count": null,
   "id": "f857a5bd",
   "metadata": {},
   "outputs": [],
   "source": [
    "################################\n",
    "# Reporting. Do not modify.#####\n",
    "result['fig5b1'] = fig5b1\n",
    "result['fig5b2'] = fig5b2\n",
    "################################"
   ]
  },
  {
   "cell_type": "markdown",
   "id": "8efd92d2",
   "metadata": {},
   "source": [
    "## 5(c)"
   ]
  },
  {
   "cell_type": "markdown",
   "id": "4bbda051",
   "metadata": {},
   "source": [
    "Comment on the pros and cons of SGD with respect to GD. Save your comments in a string called `comment`. (6 pts) "
   ]
  },
  {
   "cell_type": "code",
   "execution_count": null,
   "id": "50a5bd8c",
   "metadata": {},
   "outputs": [],
   "source": [
    "comment = ''"
   ]
  },
  {
   "cell_type": "code",
   "execution_count": null,
   "id": "961c6dd1",
   "metadata": {},
   "outputs": [],
   "source": [
    "################################\n",
    "# Reporting. Do not modify.#####\n",
    "result['comment'] = comment\n",
    "################################"
   ]
  },
  {
   "cell_type": "markdown",
   "id": "1be3c1d9",
   "metadata": {},
   "source": [
    "---\n",
    "## Do not modify below this"
   ]
  },
  {
   "cell_type": "code",
   "execution_count": null,
   "id": "1900bd92",
   "metadata": {},
   "outputs": [],
   "source": [
    "with open('{}.pickle'.format(\"_\".join([str(sid) for sid in result['SIDs']])),'wb') as file:\n",
    "    pickle.dump(result,file)"
   ]
  }
 ],
 "metadata": {
  "kernelspec": {
   "display_name": "Python 3 (ipykernel)",
   "language": "python",
   "name": "python3"
  },
  "language_info": {
   "codemirror_mode": {
    "name": "ipython",
    "version": 3
   },
   "file_extension": ".py",
   "mimetype": "text/x-python",
   "name": "python",
   "nbconvert_exporter": "python",
   "pygments_lexer": "ipython3",
   "version": "3.9.9"
  }
 },
 "nbformat": 4,
 "nbformat_minor": 5
}
