{
 "cells": [
  {
   "cell_type": "markdown",
   "id": "8d1d6992",
   "metadata": {},
   "source": [
    "---\n",
    "\n",
    "<h1><center>SDSE Lab 3 <br><br> K-means clustering </center></h1>\n",
    "\n",
    "---"
   ]
  },
  {
   "cell_type": "code",
   "execution_count": 253,
   "id": "d8a1b20a",
   "metadata": {},
   "outputs": [],
   "source": [
    "result = {\n",
    "    'group' : 20, # enter your group number here\n",
    "    'SIDs': ['3036014656','3033625729'] # enter the SIDs for the group members\n",
    "}"
   ]
  },
  {
   "cell_type": "code",
   "execution_count": 254,
   "id": "ffe6bff8",
   "metadata": {},
   "outputs": [],
   "source": [
    "import numpy as np\n",
    "import matplotlib.pyplot as plt\n",
    "import pickle\n",
    "import scipy.stats as stats"
   ]
  },
  {
   "cell_type": "markdown",
   "id": "249c15f9",
   "metadata": {},
   "source": [
    "# 1) Load the data\n",
    "Use `pickle.load` to load `data2d.pickle`. This file contains a single matrix called `X`. Use variables `N` and `D` for the number of rows (samples) and columns (features) respectively. (2 pts)"
   ]
  },
  {
   "cell_type": "code",
   "execution_count": 255,
   "id": "e91d1404",
   "metadata": {},
   "outputs": [
    {
     "name": "stdout",
     "output_type": "stream",
     "text": [
      "2\n"
     ]
    }
   ],
   "source": [
    "with open('data2d.pickle','rb') as file:\n",
    "    X = pickle.load(file)\n",
    "    \n",
    "N = X.shape[0]\n",
    "D = X.shape[1]\n",
    "print(D)"
   ]
  },
  {
   "cell_type": "code",
   "execution_count": 256,
   "id": "fc142c5b",
   "metadata": {},
   "outputs": [],
   "source": [
    "################################\n",
    "# Reporting. Do not modify.#####\n",
    "result['N'] = N\n",
    "result['D'] = D\n",
    "################################"
   ]
  },
  {
   "cell_type": "markdown",
   "id": "2bc52794",
   "metadata": {},
   "source": [
    "# 2) Scatter plot\n",
    "Create a scatter plot with the first column along the x-axis and the second column along the y-axis. Use `plt.axis('equal')` to force the two axes to have the same scale. This is important for correct visualization of the Euclidean distances between points. Save your figure handle to `fig2`. (2 pts)"
   ]
  },
  {
   "cell_type": "code",
   "execution_count": 257,
   "id": "f0537ad4",
   "metadata": {},
   "outputs": [
    {
     "data": {
      "image/png": "[encoded data removed]",
      "text/plain": [
       "<Figure size 360x360 with 1 Axes>"
      ]
     },
     "metadata": {
      "needs_background": "light"
     },
     "output_type": "display_data"
    }
   ],
   "source": [
    "fig2 = plt.figure(figsize=(5,5))\n",
    "plt.scatter(X[:,0],X[:,1])\n",
    "plt.axis('equal')\n",
    "plt.show()\n",
    "# ADD YOUR CODE HERE"
   ]
  },
  {
   "cell_type": "code",
   "execution_count": 258,
   "id": "04d930f8",
   "metadata": {},
   "outputs": [],
   "source": [
    "################################\n",
    "# Reporting. Do not modify.#####\n",
    "result['fig2'] = fig2\n",
    "################################"
   ]
  },
  {
   "cell_type": "markdown",
   "id": "bc5f0929",
   "metadata": {},
   "source": [
    "# 3) Initialize centroids\n",
    "Complete the function below that takes the number of centroids `K` and the data matrix `X` and returns `K` randomly placed centroids. The centroids should be selected according to a uniform distribution that spans a box fitted to the data. The return value should be a numpy array with shape `(K,D)` where `D` is the number of columns in X. Make sure this function  works for for values of `D` other than 2. (6 pts)"
   ]
  },
  {
   "cell_type": "code",
   "execution_count": 259,
   "id": "9dd2eac2",
   "metadata": {},
   "outputs": [],
   "source": [
    "def initialize_centroids(K,X):\n",
    "    D = X.shape[1]\n",
    "    ans = np.zeros((K,D))\n",
    "    for i in range(K):\n",
    "        for j in range(D):\n",
    "            ans[i,j] = np.random.uniform(low = np.min(X[:,j]), high = np.max(X[:,j]),size=1)\n",
    "    return ans\n",
    "    \n",
    "    # REMOVE THE pass AND ADD YOUR CODE HERE\n"
   ]
  },
  {
   "cell_type": "code",
   "execution_count": 260,
   "id": "490b9fa7",
   "metadata": {},
   "outputs": [],
   "source": [
    "################################\n",
    "# Reporting. Do not modify.#####\n",
    "result['C3'] = initialize_centroids(3,X)\n",
    "################################"
   ]
  },
  {
   "cell_type": "code",
   "execution_count": 261,
   "id": "38785af4",
   "metadata": {},
   "outputs": [
    {
     "name": "stdout",
     "output_type": "stream",
     "text": [
      "[[-1.34180541  1.95504636]\n",
      " [-2.79708531  9.25688816]\n",
      " [-5.81543589 -2.33783792]]\n"
     ]
    }
   ],
   "source": [
    "print(result['C3'])"
   ]
  },
  {
   "cell_type": "markdown",
   "id": "7d16f873",
   "metadata": {},
   "source": [
    "# 4) Compute the assignment for given centroids\n",
    "Complete the function below that takes the data matrix and centroid locations, and returns an assignment matrix `r`. `r` should be a numpy array with shape `(N,K)`. Each row of `r` should contain `K-1` `False` values and one `True` value in the position corresponding to the centroid that is nearest to that data point (Euclidean distance). (6 pts)"
   ]
  },
  {
   "cell_type": "code",
   "execution_count": 262,
   "id": "318725fc",
   "metadata": {},
   "outputs": [],
   "source": [
    "def assign_samples_to_nearest_centroid(X,C):\n",
    "    N = X.shape[0]\n",
    "    K = C.shape[0]\n",
    "    r = np.zeros((N,K)) == True\n",
    "    dis_array = np.zeros((N,K))\n",
    "    for i in range(N):\n",
    "        for j in range(K):\n",
    "            dis = np.linalg.norm(X[i]-C[j])\n",
    "            dis_array[i,j] = dis\n",
    "    #print(\"dis:\", dis_array)\n",
    "    #print(\"=========\")\n",
    "    \n",
    "    for i in range(N):\n",
    "        for j in range(K):\n",
    "            if dis_array[i,j] == np.min(dis_array[i,:]):\n",
    "                r[i,j] = True\n",
    "            else:\n",
    "                r[i,j] = False            \n",
    "    \n",
    "    # ADD YOUR CODE HERE\n",
    "    \n",
    "    return r"
   ]
  },
  {
   "cell_type": "code",
   "execution_count": 263,
   "id": "3a680ce9",
   "metadata": {},
   "outputs": [],
   "source": [
    "################################\n",
    "# Reporting. Do not modify.#####\n",
    "result['r4'] = assign_samples_to_nearest_centroid(X,result['C3'])\n",
    "################################"
   ]
  },
  {
   "attachments": {
    "image.png": {
     "image/png": "[encoded data removed]"
    }
   },
   "cell_type": "markdown",
   "id": "be32df09",
   "metadata": {},
   "source": [
    "# 5) Plot data, centroids, assignment\n",
    "Complete the function below that takes the data matrix, a set of centroids, and an assignment matrix and creates a scatter plot similar to the one shown here. The centroids should be indicated with a large dot, and the data samples should be color-coded according to their cluster membership. Your plot may not be identical to this one due to the random placement of the centroids. (6 pts)\n",
    "\n",
    "![image.png](attachment:image.png)"
   ]
  },
  {
   "cell_type": "code",
   "execution_count": 264,
   "id": "ee58631f",
   "metadata": {},
   "outputs": [],
   "source": [
    "def plot_scatter(X, C, r):\n",
    "    K = r.shape[1]\n",
    "    fig = plt.figure(figsize=(5,5))\n",
    "    \n",
    "    \n",
    "    plt.scatter(C[:,0],C[:,1], color = 'r', s = 100)\n",
    "\n",
    "    for i in range(K):\n",
    "        d = X[r[:,i],:]\n",
    "        plt.scatter(d[:,0],d[:,1])\n",
    "            \n",
    "    return fig"
   ]
  },
  {
   "cell_type": "code",
   "execution_count": 265,
   "id": "2d63a996",
   "metadata": {},
   "outputs": [
    {
     "data": {
      "image/png": "[encoded data removed]",
      "text/plain": [
       "<Figure size 360x360 with 1 Axes>"
      ]
     },
     "metadata": {
      "needs_background": "light"
     },
     "output_type": "display_data"
    }
   ],
   "source": [
    "################################\n",
    "# Reporting. Do not modify.#####\n",
    "result['fig5'] = plot_scatter(X, result['C3'], result['r4'])\n",
    "################################"
   ]
  },
  {
   "cell_type": "markdown",
   "id": "bed3c565",
   "metadata": {},
   "source": [
    "# 6) Compute the centroids for a given assignment\n",
    "Complete the function below that takes the assignment and the data matrix and returns centroids placed at the mean of each cluster. The return value should be a numpy array with shape `(K,D)`. (6 pts)"
   ]
  },
  {
   "cell_type": "code",
   "execution_count": 266,
   "id": "fe53f2f7",
   "metadata": {},
   "outputs": [],
   "source": [
    "def place_centroids(r, X):\n",
    "    K = r.shape[1]\n",
    "    D = X.shape[1]\n",
    "    C = np.empty((K,D))\n",
    "    \n",
    "    for i in range(K):\n",
    "        cluster = X[r[:,i],:]\n",
    "        centroid_new = np.mean(cluster, axis=0)\n",
    "        C[i] = centroid_new    \n",
    "    \n",
    "    return C"
   ]
  },
  {
   "cell_type": "code",
   "execution_count": 267,
   "id": "8f94b5fd",
   "metadata": {},
   "outputs": [],
   "source": [
    "################################\n",
    "# Reporting. Do not modify.#####\n",
    "result['C6'] = place_centroids(result['r4'], X)\n",
    "################################"
   ]
  },
  {
   "cell_type": "code",
   "execution_count": 268,
   "id": "eedb5abe",
   "metadata": {},
   "outputs": [
    {
     "name": "stdout",
     "output_type": "stream",
     "text": [
      "[[-2.52638721  1.58517164]\n",
      " [-7.56867595  7.02309301]\n",
      " [-4.52528271 -2.12640119]]\n"
     ]
    }
   ],
   "source": [
    "print(result['C6'])"
   ]
  },
  {
   "cell_type": "markdown",
   "id": "2fe85937",
   "metadata": {},
   "source": [
    "# 7) Code simple k-means\n",
    "Now we will use some of the functions we've developed to code the full k-means algorithm. \n",
    "\n",
    "Most of the algorithm is done for you in terms of the functions you've already written. Your task is only to implement the stopping criterion, which is to stop as soon as the assignment `r` does not change from one iteration to the next (4 pts)."
   ]
  },
  {
   "cell_type": "code",
   "execution_count": 269,
   "id": "8bba0755",
   "metadata": {},
   "outputs": [],
   "source": [
    "def run_kmeans(X,C):\n",
    "\n",
    "    done = False\n",
    "    first = True\n",
    "    \n",
    "    while not done:\n",
    "\n",
    "        r = assign_samples_to_nearest_centroid(X,C)\n",
    "        C = place_centroids(r, X)\n",
    "        \n",
    "        if np.isnan(np.sum(C)):\n",
    "            C = initialize_centroids(r.shape[1],X) \n",
    "        \n",
    "        if first  == False: # REPLACE THE True WITH THE CORRECT STOPPING CRITERION\n",
    "            if np.all(r == rold):\n",
    "                break\n",
    "            \n",
    "        rold = r\n",
    "        first = False\n",
    "\n",
    "    return C, r"
   ]
  },
  {
   "cell_type": "code",
   "execution_count": 270,
   "id": "09b8ffc8",
   "metadata": {},
   "outputs": [],
   "source": [
    "################################\n",
    "# Reporting. Do not modify.#####\n",
    "result['kmeans7'] = run_kmeans(X,result['C3'])\n",
    "################################"
   ]
  },
  {
   "cell_type": "markdown",
   "id": "6d3b6abb",
   "metadata": {},
   "source": [
    "# 8) Evaluate the cost function \n",
    "Complete the function below that evaluates the intertia for a given data matrix, centroid placement, and assignment matrix. The result is a scalar value. (6 pts)"
   ]
  },
  {
   "cell_type": "code",
   "execution_count": 280,
   "id": "8e90e43e",
   "metadata": {},
   "outputs": [],
   "source": [
    "def eval_cost(X,C,r):\n",
    "    K = r.shape[1]\n",
    "    \n",
    "    centroid = np.zeros(X.shape)\n",
    "\n",
    "    cost = 0\n",
    "    for i in range(X.shape[0]):\n",
    "        assignment = r[i,:]\n",
    "        if  np.all(list(assignment) ==[True, False, False]):\n",
    "            centroid[i,:] = C[0,:]\n",
    "        if  np.all(list(assignment) ==[False, True, False]):\n",
    "            centroid[i,:] = C[1,:]\n",
    "        if  np.all(list(assignment) == [False, False, True]):\n",
    "            centroid[i,:] = C[2,:]\n",
    "        distance = np.linalg.norm(X[i,:]-centroid[i,:])**2\n",
    "        cost = cost + distance\n",
    "    return cost"
   ]
  },
  {
   "cell_type": "code",
   "execution_count": 281,
   "id": "fdcb797f",
   "metadata": {},
   "outputs": [],
   "source": [
    "################################\n",
    "# Reporting. Do not modify.#####\n",
    "result['cost8'] = eval_cost(X,result['C3'],result['r4'])\n",
    "################################"
   ]
  },
  {
   "cell_type": "code",
   "execution_count": 282,
   "id": "5e8a2526",
   "metadata": {},
   "outputs": [
    {
     "data": {
      "text/plain": [
       "2002.5448321976532"
      ]
     },
     "execution_count": 282,
     "metadata": {},
     "output_type": "execute_result"
    }
   ],
   "source": [
    "result['cost8']"
   ]
  },
  {
   "cell_type": "markdown",
   "id": "4ad7dc0f",
   "metadata": {},
   "source": [
    "# 9) Ensemble run\n",
    "Complete the function below that runs kmeans `ensemblesize` times, each with a different initial centroid placement. These initial placements should be chosen with `initialize_centroids(K,X)`. The function should return the single run with the lowest cost. Results should be returned in a **dictionary** with keys `('C','r','cost')`. `C` are the best centroids, `r` is the best assignment, and `cost` is the corresponding cost. (6 pts)"
   ]
  },
  {
   "cell_type": "code",
   "execution_count": 283,
   "id": "95b52fbb",
   "metadata": {},
   "outputs": [],
   "source": [
    "def ensemble_run(K,X,ensemblesize):\n",
    "    best_run = {'C':None,'r':None,'cost':None}\n",
    "    first = True\n",
    "    for e in range(ensemblesize):\n",
    "        C = initialize_centroids(K,X)\n",
    "        C, r = run_kmeans(X,C)\n",
    "        cost = eval_cost(X,C,r)\n",
    "       \n",
    "        if first:\n",
    "            best_run['C'] = C\n",
    "            best_run['r'] = r\n",
    "            best_run['cost'] = cost\n",
    "        else:\n",
    "            if cost < best_run['cost']:\n",
    "                best_run['C'] = C\n",
    "                best_run['r'] = r\n",
    "                best_run['cost'] = cost\n",
    "        first = False\n",
    "    \n",
    "    return best_run"
   ]
  },
  {
   "cell_type": "code",
   "execution_count": 284,
   "id": "561898e3",
   "metadata": {},
   "outputs": [],
   "source": [
    "################################\n",
    "# Reporting. Do not modify.#####\n",
    "result['ens9'] = ensemble_run(3,X,100)\n",
    "################################"
   ]
  },
  {
   "cell_type": "code",
   "execution_count": 285,
   "id": "a9544fd1",
   "metadata": {},
   "outputs": [
    {
     "name": "stdout",
     "output_type": "stream",
     "text": [
      "616.5673133446329\n"
     ]
    }
   ],
   "source": [
    "print(result['ens9']['cost'])"
   ]
  },
  {
   "cell_type": "markdown",
   "id": "61d67976",
   "metadata": {},
   "source": [
    "# 10) Iteration over K\n",
    "Complete the function below that takes the data matrix, a sample size, and a maximum number of clusters to consider (`maxK`).  The function should run `ensemble_run` for all values of `K` from 1 to `maxK`. It should return a numpy array of length `maxK-1` with the best case cost for each value of `K`. (6 pts)"
   ]
  },
  {
   "cell_type": "code",
   "execution_count": 277,
   "id": "74a8b2a6",
   "metadata": {
    "scrolled": true
   },
   "outputs": [
    {
     "name": "stdout",
     "output_type": "stream",
     "text": [
      "[1, 2, 3, 4, 5, 6, 7, 8, 9, 10]\n"
     ]
    }
   ],
   "source": [
    "print(allK)"
   ]
  },
  {
   "cell_type": "code",
   "execution_count": 286,
   "id": "c8ae4468",
   "metadata": {},
   "outputs": [],
   "source": [
    "maxK = 10 \n",
    "ensemblesize=100\n",
    "allK = list(range(1,maxK+1))\n",
    "best_cost = np.empty(len(allK))\n",
    "\n",
    "for k in allK:\n",
    "    best_cost[k-1] = ensemble_run(k,X,ensemblesize)['cost']"
   ]
  },
  {
   "cell_type": "code",
   "execution_count": 287,
   "id": "c2c30579",
   "metadata": {},
   "outputs": [
    {
     "name": "stdout",
     "output_type": "stream",
     "text": [
      "[5750.77286509 5750.77286509  616.56731334 5750.77286509 5750.77286509\n",
      " 5750.77286509 5750.77286509 5750.77286509 5750.77286509 5750.77286509]\n"
     ]
    }
   ],
   "source": [
    "print(best_cost)"
   ]
  },
  {
   "cell_type": "code",
   "execution_count": null,
   "id": "afc7024c",
   "metadata": {},
   "outputs": [],
   "source": [
    "def K_iteration(X, ensemblesize, maxK=10):\n",
    "    allK = list(range(1,maxK))\n",
    "    best_cost = np.empty(len(allK))\n",
    "    \n",
    "    for k in allK:\n",
    "        best_cost[k] = ensemble_run(k,X,ensemblesize)\n",
    "    \n",
    "    \n",
    "    return best_cost"
   ]
  },
  {
   "cell_type": "markdown",
   "id": "46bdd5ca",
   "metadata": {},
   "source": [
    "# 11) Selecting K\n",
    "\n",
    "We now run `K_iteration` with `ensemblesize=200`, `maxK=10` and plot the result. The plot shows the percent improvement of each `K` over `K-1`. From this plot, choose an ideal value for `K` and report it in the results dictionary as `Kideal`. (4 pts)"
   ]
  },
  {
   "cell_type": "code",
   "execution_count": null,
   "id": "2ea62719",
   "metadata": {},
   "outputs": [],
   "source": [
    "ensemblesize = 200\n",
    "maxK=10\n",
    "best_cost = K_iteration(X, ensemblesize, maxK)\n",
    "\n",
    "fig11 = plt.figure(figsize=(8,5))\n",
    "allK = list(range(1,maxK))\n",
    "plt.plot(allK[1:],100*np.abs(np.diff(best_cost)) / best_cost[1:],\n",
    "         linewidth=3,\n",
    "         marker='o',\n",
    "         markersize=8)\n",
    "plt.grid()\n",
    "plt.xticks(fontsize=16)\n",
    "plt.yticks(fontsize=16)\n",
    "plt.show"
   ]
  },
  {
   "cell_type": "code",
   "execution_count": null,
   "id": "cb3be597",
   "metadata": {},
   "outputs": [],
   "source": [
    "# REPLACE THE None WITH YOUR Kideal VALUE.\n",
    "\n",
    "Kideal = None"
   ]
  },
  {
   "cell_type": "code",
   "execution_count": null,
   "id": "fca282c2",
   "metadata": {},
   "outputs": [],
   "source": [
    "################################\n",
    "# Reporting. Do not modify.#####\n",
    "result['fig11'] = fig11\n",
    "result['Kideal'] = Kideal\n",
    "################################"
   ]
  },
  {
   "cell_type": "markdown",
   "id": "9a3546c8",
   "metadata": {},
   "source": [
    "---\n",
    "## Do not modify below this"
   ]
  },
  {
   "cell_type": "code",
   "execution_count": null,
   "id": "071c6e74",
   "metadata": {},
   "outputs": [],
   "source": [
    "with open('{}.pickle'.format(result['group']),'wb') as file:\n",
    "    pickle.dump(result,file)"
   ]
  }
 ],
 "metadata": {
  "kernelspec": {
   "display_name": "Python 3 (ipykernel)",
   "language": "python",
   "name": "python3"
  },
  "language_info": {
   "codemirror_mode": {
    "name": "ipython",
    "version": 3
   },
   "file_extension": ".py",
   "mimetype": "text/x-python",
   "name": "python",
   "nbconvert_exporter": "python",
   "pygments_lexer": "ipython3",
   "version": "3.9.10"
  }
 },
 "nbformat": 4,
 "nbformat_minor": 5
}
